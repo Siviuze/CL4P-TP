{
 "cells": [
  {
   "cell_type": "code",
   "execution_count": 5,
   "metadata": {},
   "outputs": [
    {
     "name": "stdout",
     "output_type": "stream",
     "text": [
      "Lagrange equation:\n",
      "[               -dtheta^2*l*m*sin(theta) + ddtheta*l*m*cos(theta) + ddx*m + ddx*mw]\n",
      "[ddtheta*l^2*m + ddx*l*m*cos(theta) - g*l*m*sin(theta) + J*ddphi + (I + J)*ddtheta]\n",
      "[                                                              J*ddphi + J*ddtheta]\n",
      "Mass matrix:\n",
      "[        m + mw l*m*cos(theta)              0]\n",
      "[l*m*cos(theta)  l^2*m + I + J              J]\n",
      "[             0              J              J]\n",
      "Nonlinear effects:\n",
      "[-dtheta^2*l*m*sin(theta)]\n",
      "[       -g*l*m*sin(theta)]\n",
      "[                       0]\n"
     ]
    }
   ],
   "source": [
    "# Equation of the dynamics.\n",
    "\n",
    "# Wheel radius, mass, inertia\n",
    "r = var('r')\n",
    "mw = var('mw', latex_name='m_w')\n",
    "J = var('J')\n",
    "\n",
    "# Pendulum mass, length, inertia about CoM\n",
    "m = var('m')\n",
    "l = var('l')\n",
    "I = var('I')\n",
    "\n",
    "# Gravity\n",
    "g = var('g')\n",
    "        \n",
    "# State variables\n",
    "x = var('x')\n",
    "dx = var('dx',  latex_name='\\\\dot{x}')\n",
    "ddx = var('ddx',  latex_name='\\\\ddot{x}')\n",
    "theta = var('theta', latex_name='\\\\theta')\n",
    "dtheta = var('dtheta',  latex_name='\\\\dot{\\\\theta}')\n",
    "ddtheta = var('ddtheta',  latex_name='\\\\ddot{\\\\theta}')\n",
    "phi = var('phi', latex_name='\\\\phi')\n",
    "dphi = var('dphi',  latex_name='\\\\dot{\\\\phi}')\n",
    "ddphi = var('ddphi',  latex_name='\\\\ddot{\\\\phi}')\n",
    "\n",
    "q = [x, theta, phi]\n",
    "dq = [dx, dtheta, dphi]\n",
    "ddq = [ddx, ddtheta, ddphi]\n",
    "\n",
    "# Compute kinetic energy\n",
    "K = 1 / 2 * ( mw * dx**2 + J * (dtheta + dphi)**2 + I * dtheta**2 + m * (dx**2 + 2 * l * dx * dtheta * cos(theta) + (l * dtheta)**2))\n",
    "# Compute potential energy\n",
    "E = m * g * l * cos(theta)\n",
    "# Lagrangian\n",
    "L = K - E\n",
    "\n",
    "# Write Lagrange equation\n",
    "dL_dq = matrix([diff(L, i) for i in q]).T\n",
    "dL_ddq = matrix([diff(L, i) for i in dq]).T\n",
    "D_Dt_dL_ddq =  matrix([sum([diff(dL_ddq[i], q[j]) * dq[j] + diff(dL_ddq[i], dq[j]) * ddq[j] for j in range(len(q))]) for i in range(len(q))])\n",
    "\n",
    "lagrange_equations = (D_Dt_dL_ddq - dL_dq).simplify_full()\n",
    "\n",
    "print(\"Lagrange equation:\")\n",
    "print(lagrange_equations)\n",
    "\n",
    "# Extract mass matrix from this equation\n",
    "# Given an expression and variable, extract coefficient of this variable in the expression\n",
    "def get_coeff(expr, var):\n",
    "    coeffs = expr.coefficients(var)\n",
    "    if len(coeffs) < 2:\n",
    "        return 0\n",
    "    return coeffs[1][0]\n",
    "\n",
    "H = matrix([[get_coeff(lagrange_equations[j][0], i) for i in ddq] for j in range(len(q))])\n",
    "H = H.simplify_full()\n",
    "print(\"Mass matrix:\")\n",
    "print(H)\n",
    "\n",
    "# Compute non-linear effects such that the lagrange equation (without external forces) writes M ddq + nle = 0\n",
    "nle = (lagrange_equations - H * matrix(ddq).T).simplify_full()\n",
    "print(\"Nonlinear effects:\")\n",
    "print(nle)"
   ]
  },
  {
   "cell_type": "code",
   "execution_count": 7,
   "metadata": {},
   "outputs": [
    {
     "name": "stdout",
     "output_type": "stream",
     "text": [
      "Constraint equation:\n",
      "[(ddphi + 2*ddtheta)*l*m*r*cos(theta) + ddtheta*l^2*m + ((ddphi + ddtheta)*m + (ddphi + ddtheta)*mw)*r^2 + J*ddphi + (I + J)*ddtheta - (dtheta^2*l*m*r + g*l*m)*sin(theta)]\n",
      "[                                           -dtheta^2*l*m*r*sin(theta) + ddtheta*l*m*r*cos(theta) + ((ddphi + ddtheta)*m + (ddphi + ddtheta)*mw)*r^2 + J*ddphi + J*ddtheta]\n",
      "\n",
      "Constraint mass:\n",
      "[2*l*m*r*cos(theta) + l^2*m + (m + mw)*r^2 + I + J               l*m*r*cos(theta) + (m + mw)*r^2 + J]\n",
      "[              l*m*r*cos(theta) + (m + mw)*r^2 + J                                  (m + mw)*r^2 + J]\n",
      "\n",
      "Constraint nonlinear effects:\n",
      "[-(dtheta^2*l*m*r + g*l*m)*sin(theta)]\n",
      "[          -dtheta^2*l*m*r*sin(theta)]\n"
     ]
    }
   ],
   "source": [
    "# Now lets add the wheel constraint.\n",
    "# We have dx = -r (dtheta + dphi), thus calling lamda the corresponding force: lambda is equal to the first lagrange\n",
    "# equation, and we add r lamda to each of the other equation\n",
    "\n",
    "lamda_r = lagrange_equations[0,0] * r\n",
    "lagrange_constraint = matrix([lagrange_equations[1,0] + lamda_r, lagrange_equations[2,0] + lamda_r]).T\n",
    "# Now run the substitution: dx = r (dtheta + dphi), ddx = r (ddtheta + ddphi)\n",
    "lagrange_constraint = lagrange_constraint.substitute(dx=r * (dtheta + dphi))\n",
    "lagrange_constraint = lagrange_constraint.substitute(ddx=r * (ddtheta + ddphi))\n",
    "lagrange_constraint = lagrange_constraint.simplify_full()\n",
    "\n",
    "# Finally, extract H and nle like before.\n",
    "print(\"Constraint equation:\")\n",
    "print(lagrange_constraint)\n",
    "\n",
    "ddq_c = [ddtheta, ddphi]\n",
    "print(\"\\nConstraint mass:\")\n",
    "H = matrix([[get_coeff(lagrange_constraint[j][0], i) for i in ddq_c] for j in range(len(ddq_c))])\n",
    "H = H.simplify_full()\n",
    "print(H)\n",
    "\n",
    "nle = (lagrange_constraint - H * matrix(ddq_c).T).simplify_full()\n",
    "print(\"\\nConstraint nonlinear effects:\")\n",
    "print(nle)\n"
   ]
  },
  {
   "cell_type": "code",
   "execution_count": 61,
   "metadata": {},
   "outputs": [
    {
     "name": "stdout",
     "output_type": "stream",
     "text": [
      "\\left(\\begin{array}{rr}\n",
      "2 \\, l m r \\cos\\left({\\theta}\\right) + l^{2} m + {\\left(m + {m_w}\\right)} r^{2} + I + J & l m r \\cos\\left({\\theta}\\right) + {\\left(m + {m_w}\\right)} r^{2} + J \\\\\n",
      "l m r \\cos\\left({\\theta}\\right) + {\\left(m + {m_w}\\right)} r^{2} + J & {\\left(m + {m_w}\\right)} r^{2} + J\n",
      "\\end{array}\\right)\n",
      "\n",
      "\\left(\\begin{array}{r}\n",
      "-{\\left({\\dot{\\theta}}^{2} l m r + g l m\\right)} \\sin\\left({\\theta}\\right) \\\\\n",
      "-{\\dot{\\theta}}^{2} l m r \\sin\\left({\\theta}\\right)\n",
      "\\end{array}\\right)\n"
     ]
    }
   ],
   "source": [
    "print(latex(H))\n",
    "print()\n",
    "print(latex(nle))"
   ]
  },
  {
   "cell_type": "code",
   "execution_count": 69,
   "metadata": {},
   "outputs": [
    {
     "name": "stdout",
     "output_type": "stream",
     "text": [
      "[(J*g*l*m + (g*l*m^2 + g*l*m*mw)*r^2)/(J*l^2*m + (I*m + (l^2*m + I)*mw)*r^2 + I*J)]\n",
      "[                        -g*l^2*m^2*r/(J*l^2*m + (I*m + (l^2*m + I)*mw)*r^2 + I*J)]\n",
      "[-(l*m*r + (m + mw)*r^2 + J)/(J*l^2*m + (I*m + (l^2*m + I)*mw)*r^2 + I*J)]\n",
      "[        (l^2*m + l*m*r + I)/(J*l^2*m + (I*m + (l^2*m + I)*mw)*r^2 + I*J)]\n"
     ]
    }
   ],
   "source": [
    "# Compute inverse of H_psi\n",
    "H_psi = matrix([[m * l**2 + I, m * l * r], [m * l * r, (m + mw)*r**2 + J]])\n",
    "H_inv = H_psi.inverse().simplify_full()\n",
    "\n",
    "# Compute coefficients of A\n",
    "A_coeffs = (H_inv * matrix([m * l * g, 0]).T).simplify_full()\n",
    "print(A_coeffs )\n",
    "B_coeffs = (H_inv * matrix([-1, 1]).T).simplify_full()\n",
    "print(B_coeffs )\n"
   ]
  }
 ],
 "metadata": {
  "kernelspec": {
   "display_name": "SageMath 8.8",
   "language": "",
   "name": "sagemath"
  },
  "language_info": {
   "codemirror_mode": {
    "name": "ipython",
    "version": 3
   },
   "file_extension": ".py",
   "mimetype": "text/x-python",
   "name": "python",
   "nbconvert_exporter": "python",
   "pygments_lexer": "ipython3",
   "version": "3.7.5"
  }
 },
 "nbformat": 4,
 "nbformat_minor": 2
}
